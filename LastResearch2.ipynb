{
 "cells": [
  {
   "cell_type": "markdown",
   "metadata": {},
   "source": [
    "必要なライブラリー読み込み   "
   ]
  },
  {
   "cell_type": "code",
   "execution_count": 1,
   "metadata": {},
   "outputs": [],
   "source": [
    "import numpy as np\n",
    "import scipy as sp\n",
    "import pandas as pd\n",
    "from pandas import Series, DataFrame\n",
    "import matplotlib.pyplot as plt\n",
    "import matplotlib as mpl\n",
    "import seaborn as sns\n",
    "sns.set()\n",
    "%matplotlib inline\n",
    "%precision 5\n",
    "import scipy.spatial.distance as dis\n",
    "import sklearn\n",
    "import csv\n",
    "import pprint\n",
    "from sklearn.model_selection import train_test_split\n",
    "from sklearn.linear_model import LinearRegression\n",
    "from sklearn import linear_model\n",
    "reg = linear_model.LinearRegression()\n",
    "from sklearn.model_selection import train_test_split\n",
    "from sklearn.linear_model import LogisticRegression\n",
    "from sklearn.preprocessing import StandardScaler\n",
    "from sklearn.cluster import KMeans\n",
    "from sklearn.datasets import make_blobs"
   ]
  },
  {
   "cell_type": "markdown",
   "metadata": {},
   "source": [
    "必要なデータの読み込み"
   ]
  },
  {
   "cell_type": "code",
   "execution_count": 2,
   "metadata": {},
   "outputs": [],
   "source": [
    "#rating_data : userId, movieId, rating\n",
    "rating_data = pd.read_csv(\"ratings.csv\",encoding = \"UTF-8\") \n",
    "#movie_data : movieId, title, genres\n",
    "movie_data = pd.read_csv(\"movies.csv\",encoding='cp932')\n",
    "#tag_data : movieId, tagId, relevance, tag\n",
    "tag_id = pd.read_csv(\"genome-scores.csv\")\n",
    "tag_detail = pd.read_csv(\"genome-tags.csv\") \n",
    "tag_data = pd.merge(tag_id,tag_detail,how=\"left\",on =\"tagId\")\n",
    "tag_rel = tag_id['relevance'].to_numpy().reshape([-1,1128])\n",
    "#tagを持つmovieのmovieIdのリスト\n",
    "movieId_list = set(tag_data[\"movieId\"])\n",
    "movieId_list = list(movieId_list)\n",
    "movieId_list.sort()\n",
    "#tag_relevance(tagとそれぞれの映画の関係性)\n",
    "data_relevance = pd.DataFrame(np.array(tag_data[\"relevance\"]).reshape(len(movieId_list),1128))\n",
    "movieId_tag = pd.DataFrame(movieId_list)\n",
    "movieId_tag.columns  = [\"movieId\"]\n",
    "listed = list(range(1,1129))\n",
    "data_relevance = data_relevance.rename(columns = lambda x:listed[x])\n",
    "data_relevance = data_relevance.add_prefix(\"tag\")\n",
    "tag_relevance = pd.concat([movieId_tag,data_relevance],axis = 1)\n",
    "#映画のジャンル\n",
    "list_genres = [\"Action\",\"Adventure\",\"Animation\",\"Children\",\"Comedy\",\"Crime\",\"Documentary\",\"Drama\",\"Fantasy\",\"Film-Noir\",\n",
    "               \"Horror\",\"Musical\",\"Mystery\",\"Romance\",\"Sci-Fi\",\"Thriller\",\"War\",\"Western\",\"(no genres listed)\"]"
   ]
  },
  {
   "cell_type": "markdown",
   "metadata": {},
   "source": [
    "userId1の基本データ"
   ]
  },
  {
   "cell_type": "code",
   "execution_count": 3,
   "metadata": {},
   "outputs": [
    {
     "name": "stdout",
     "output_type": "stream",
     "text": [
      "user1のratingに総数、平均、標準偏差\n",
      "count    70.000000\n",
      "mean      3.814286\n",
      "std       1.004235\n",
      "min       0.500000\n",
      "25%       3.500000\n",
      "50%       4.000000\n",
      "75%       4.500000\n",
      "max       5.000000\n",
      "Name: rating, dtype: float64\n",
      "             \n",
      "user1がどういったジャンルを高く評価しているか\n",
      "Action : 4.125\n",
      "Adventure : 3.727272727272727\n",
      "Animation : 4.0\n",
      "Children : 3.8333333333333335\n",
      "Comedy : 3.869565217391304\n",
      "Crime : 4.0625\n",
      "Documentary : 2.0\n",
      "Drama : 3.8679245283018866\n",
      "Fantasy : 3.6\n",
      "Film-Noir : 3.5\n",
      "Horror : 3.5\n",
      "Musical : 3.7\n",
      "Mystery : 3.5\n",
      "Romance : 4.166666666666667\n",
      "Sci-Fi : 3.7\n",
      "Thriller : 4.3\n",
      "War : 3.9\n",
      "Western : 2.5\n",
      "(no genres listed) : nan\n"
     ]
    },
    {
     "name": "stderr",
     "output_type": "stream",
     "text": [
      "C:\\Users\\wataru\\anaconda3\\lib\\site-packages\\pandas\\core\\strings.py:2001: UserWarning: This pattern has match groups. To actually get the groups, use str.extract.\n",
      "  return func(self, *args, **kwargs)\n"
     ]
    }
   ],
   "source": [
    "data1 = rating_data[rating_data[\"userId\"] == 1]\n",
    "data1_list = np.array(data1[\"movieId\"])\n",
    "print(\"user1のratingに総数、平均、標準偏差\")\n",
    "print(data1[\"rating\"].describe())\n",
    "\n",
    "flag = movie_data[\"movieId\"].isin(data1_list)\n",
    "data1_movie = movie_data[flag]\n",
    "\n",
    "data1_merge= pd.merge(data1,data1_movie,how=\"left\",on =\"movieId\")\n",
    "data1_merge\n",
    "\n",
    "print(\"             \")\n",
    "print(\"user1がどういったジャンルを高く評価しているか\")\n",
    "\n",
    "for i in range(len(list_genres)):\n",
    "    data1_alpha = data1_merge[data1_merge[\"genres\"].str.contains(list_genres[i])]\n",
    "    print(list_genres[i],\":\",data1_alpha[\"rating\"].mean())\n"
   ]
  },
  {
   "cell_type": "markdown",
   "metadata": {},
   "source": [
    "tagに対しての重回帰分析"
   ]
  },
  {
   "cell_type": "code",
   "execution_count": 4,
   "metadata": {},
   "outputs": [],
   "source": [
    "#あるuserに関する重回帰分析の関数(引数に求めたいuserIdを入力)\n",
    "def calc_r_tagrel(x):\n",
    "    try:\n",
    "        data = rating_data[rating_data[\"userId\"] == x]\n",
    "        flag = tag_relevance[\"movieId\"].isin(data[\"movieId\"]) \n",
    "        user_tag = tag_relevance[flag]\n",
    "        user_tag.reset_index(inplace=True)\n",
    "        user_tag = user_tag.drop(\"index\",axis = 1)\n",
    "        data_linear_model = pd.merge(data,user_tag)\n",
    "        X = data_linear_model.drop([\"rating\",\"userId\",\"movieId\",\"timestamp\",],axis = 1)\n",
    "        y = data_linear_model[\"rating\"]\n",
    "        X_train,X_test,y_train,y_test = train_test_split(X,y,test_size=0.5 , random_state = 0)\n",
    "        model = LinearRegression()\n",
    "        model.fit(X_train,y_train)\n",
    "        print(\"決定係数(train):{:.3f}\".format(model.score(X_train,y_train)))\n",
    "        print(\"決定係数(test):{:.3f}\".format(model.score(X_test,y_test)))\n",
    "        print(\"\\n回帰係数\\n{}\".format(pd.Series(model.coef_,index = X.columns)))\n",
    "        print(\"切片：{:.3f}\".format(model.intercept_))\n",
    "        print(model.predict(X_test))\n",
    "        print(\"下記にテストデータのratingの予測を記す。\")\n",
    "        print(dict(y_test))\n",
    "    except:\n",
    "        print(\"userIdを入力してください。\")"
   ]
  },
  {
   "cell_type": "code",
   "execution_count": 5,
   "metadata": {
    "scrolled": false
   },
   "outputs": [
    {
     "name": "stdout",
     "output_type": "stream",
     "text": [
      "決定係数(train):1.000\n",
      "決定係数(test):0.053\n",
      "\n",
      "回帰係数\n",
      "tag1       0.001946\n",
      "tag2      -0.000731\n",
      "tag3       0.084166\n",
      "tag4      -0.052203\n",
      "tag5      -0.048374\n",
      "             ...   \n",
      "tag1124   -0.026823\n",
      "tag1125    0.127559\n",
      "tag1126   -0.006203\n",
      "tag1127    0.001644\n",
      "tag1128    0.001163\n",
      "Length: 1128, dtype: float64\n",
      "切片：3.498\n",
      "[4.35045 3.97576 3.84973 3.90411 3.45025 3.18373 4.47496 3.77762 4.59192\n",
      " 3.62196 3.2933  5.42448 3.82384 3.43661 4.05862 3.54895 3.46829 3.76209\n",
      " 4.44249 3.99876 3.67846 3.2177  4.05254 5.03166 3.09081 4.27075 4.69563\n",
      " 3.72211 3.58275 3.31512 3.95862 3.91073 4.53953 3.14403]\n",
      "下記にテストデータのratingの予測を記す。\n",
      "{48: 5.0, 27: 3.0, 32: 2.0, 22: 5.0, 31: 0.5, 45: 2.0, 30: 4.0, 60: 4.0, 55: 3.5, 62: 4.0, 28: 4.0, 41: 5.0, 67: 5.0, 58: 4.0, 52: 2.5, 40: 3.5, 4: 3.5, 51: 3.0, 26: 5.0, 2: 5.0, 66: 3.5, 11: 4.0, 3: 5.0, 42: 3.5, 10: 3.5, 34: 4.0, 61: 3.0, 43: 4.0, 54: 4.5, 53: 2.5, 7: 3.5, 14: 2.5, 33: 5.0, 63: 3.0}\n"
     ]
    }
   ],
   "source": [
    "calc_r_tagrel(1)"
   ]
  },
  {
   "cell_type": "markdown",
   "metadata": {},
   "source": [
    "ある1つの映画に対して似ている映画を求める    \n",
    "ユークリッド距離を用いて、movieIdがxの似ている映画上位y位までを求める。"
   ]
  },
  {
   "cell_type": "code",
   "execution_count": 12,
   "metadata": {},
   "outputs": [
    {
     "name": "stdout",
     "output_type": "stream",
     "text": [
      "[0.      5.48894 6.39882 ... 6.08321 6.24865 6.35956]\n",
      "[0.      0.22385 0.30982 ... 0.28469 0.27625 0.30882]\n"
     ]
    }
   ],
   "source": [
    "user_tag_rel = np.array(tag_data[tag_data[\"movieId\"] == 1][\"relevance\"])\n",
    "euclid_dis = np.apply_along_axis(lambda x:dis.euclidean(user_tag_rel,x),1,tag_rel)\n",
    "\"\"\"\n",
    "sort_index_user = np.argsort(euclid_dis)\n",
    "for i in sort_index_user[:10]:\n",
    "    flag = movie_data[\"movieId\"].isin([tag_id[\"movieId\"][i*1128]])\n",
    "    print(movie_data[\"title\"][np.where(flag == True)[0][0]])\n",
    "\"\"\"\n",
    "print(euclid_dis)\n",
    "\n",
    "flag = tag_data[\"movieId\"].isin([1])\n",
    "rel0 = tag_data[flag][\"relevance\"]\n",
    "sim = np.apply_along_axis(lambda x:dis.cosine(rel0,x),1,tag_rel)\n",
    "#sort_index = np.argsort(sim)\n",
    "\"\"\"\n",
    "for i in sort_index[:10]:\n",
    "    flag = movie_data[\"movieId\"].isin([tag_id[\"movieId\"][i*1128]])\n",
    "    print(movie_data[\"title\"][np.where(flag == True)[0][0]])\n",
    "\"\"\"\n",
    "print(sim)"
   ]
  },
  {
   "cell_type": "code",
   "execution_count": 6,
   "metadata": {},
   "outputs": [],
   "source": [
    "def euclid_dis_top(x,y):\n",
    "    try:\n",
    "        user_tag_rel = np.array(tag_data[tag_data[\"movieId\"] == x][\"relevance\"])\n",
    "        euclid_dis = np.apply_along_axis(lambda x:dis.euclidean(user_tag_rel,x),1,tag_rel)\n",
    "        sort_index_user = np.argsort(euclid_dis)\n",
    "        for i in sort_index_user[:y]:\n",
    "            flag = movie_data[\"movieId\"].isin([tag_id[\"movieId\"][i*1128]])\n",
    "            print(movie_data[\"title\"][np.where(flag == True)[0][0]])\n",
    "    except:\n",
    "        print(\"movieId_list内のmovieIdを引数としてください。\")"
   ]
  },
  {
   "cell_type": "code",
   "execution_count": 7,
   "metadata": {},
   "outputs": [
    {
     "name": "stdout",
     "output_type": "stream",
     "text": [
      "Avengers: Infinity War - Part II (2019)\n",
      "Avengers: Infinity War - Part I (2018)\n",
      "Spider-Man: Far from Home (2019)\n",
      "Thor: Ragnarok (2017)\n",
      "Spider-Man: Into the Spider-Verse (2018)\n",
      "Untitled Spider-Man Reboot (2017)\n",
      "Black Panther (2017)\n"
     ]
    }
   ],
   "source": [
    "euclid_dis_top(122914,7)"
   ]
  },
  {
   "cell_type": "markdown",
   "metadata": {},
   "source": [
    "cos類似度を用いて、movieIdがxの似ている映画を上位y位まで求める。"
   ]
  },
  {
   "cell_type": "code",
   "execution_count": 8,
   "metadata": {},
   "outputs": [],
   "source": [
    "def cos_top(x,y):\n",
    "    try:\n",
    "        flag = tag_data[\"movieId\"].isin([x])\n",
    "        rel0 = tag_data[flag][\"relevance\"]\n",
    "        sim = np.apply_along_axis(lambda x:dis.cosine(rel0,x),1,tag_rel)\n",
    "        sort_index = np.argsort(sim)\n",
    "        for i in sort_index[:y]:\n",
    "            flag = movie_data[\"movieId\"].isin([tag_id[\"movieId\"][i*1128]])\n",
    "            print(movie_data[\"title\"][np.where(flag == True)[0][0]])\n",
    "    except:\n",
    "        print(\"movieId_list内のmovieIdを引数としてください。\")"
   ]
  },
  {
   "cell_type": "code",
   "execution_count": 9,
   "metadata": {},
   "outputs": [
    {
     "name": "stdout",
     "output_type": "stream",
     "text": [
      "Avengers: Infinity War - Part II (2019)\n",
      "Avengers: Infinity War - Part I (2018)\n",
      "Thor: Ragnarok (2017)\n",
      "Spider-Man: Far from Home (2019)\n",
      "Untitled Spider-Man Reboot (2017)\n",
      "Spider-Man: Into the Spider-Verse (2018)\n",
      "Black Panther (2017)\n"
     ]
    }
   ],
   "source": [
    "cos_top(122914,7)"
   ]
  },
  {
   "cell_type": "markdown",
   "metadata": {},
   "source": [
    "movieIdがxの物に対するお勧めをユークリッド距離とcos類似度を用いて求める(1<y<51)"
   ]
  },
  {
   "cell_type": "code",
   "execution_count": 7,
   "metadata": {
    "scrolled": true
   },
   "outputs": [],
   "source": [
    "def featured_movie(x,y):\n",
    "    flag = tag_data[\"movieId\"].isin([x])\n",
    "    rel0 = tag_data[flag][\"relevance\"]\n",
    "    sim = np.apply_along_axis(lambda x:dis.cosine(rel0,x),1,tag_rel)\n",
    "    sort_index = np.array(tag_id[\"movieId\"][((np.argsort(sim))*1128)[:50]])\n",
    "    rel_cos = tag_data[tag_data[\"movieId\"].isin(sort_index)][\"relevance\"].to_numpy().reshape([-1,1128])\n",
    "    rel_cos_id = np.array(movie_data[movie_data[\"movieId\"].isin(sort_index)][\"movieId\"])\n",
    "    euclid_dis = np.apply_along_axis(lambda x:dis.euclidean(rel0,x),1,rel_cos)\n",
    "    rel_cos_id = rel_cos_id[np.argsort(euclid_dis)]\n",
    "    for i in rel_cos_id[:y]:\n",
    "        flag = movie_data[\"movieId\"].isin([i])\n",
    "        print(movie_data[\"title\"][np.where(flag == True)[0][0]])"
   ]
  },
  {
   "cell_type": "code",
   "execution_count": 8,
   "metadata": {},
   "outputs": [
    {
     "name": "stdout",
     "output_type": "stream",
     "text": [
      "Avengers: Infinity War - Part II (2019)\n",
      "Avengers: Infinity War - Part I (2018)\n",
      "Spider-Man: Far from Home (2019)\n",
      "Thor: Ragnarok (2017)\n",
      "Spider-Man: Into the Spider-Verse (2018)\n",
      "Untitled Spider-Man Reboot (2017)\n",
      "Black Panther (2017)\n",
      "Deadpool 2 (2018)\n",
      "Shazam! (2019)\n",
      "Aquaman (2018)\n"
     ]
    }
   ],
   "source": [
    "featured_movie(122914,10)"
   ]
  },
  {
   "cell_type": "markdown",
   "metadata": {},
   "source": [
    "複数の映画に対して似ている映画を求める(featured_movie_clu(x,z)求めたいuserIdをx,求めたいお勧めの数をzとする。)"
   ]
  },
  {
   "cell_type": "code",
   "execution_count": 12,
   "metadata": {},
   "outputs": [],
   "source": [
    "def featured_movie_clu(x,z):\n",
    "    try:\n",
    "        cluster_num = len(rating_data[rating_data[\"userId\"] == x])//50 + 3\n",
    "        data = rating_data[rating_data[\"userId\"] == x] \n",
    "        X = tag_relevance[tag_relevance[\"movieId\"].isin(data[\"movieId\"]) ].drop(\"movieId\",axis = 1)\n",
    "        Kmeans = KMeans(n_clusters = cluster_num,init =\"random\",random_state = 0)\n",
    "        y = Kmeans.fit_predict(X)\n",
    "        for i in range(cluster_num):\n",
    "            rel0 = X[y == i].mean()\n",
    "            sim = np.apply_along_axis(lambda x:dis.cosine(rel0,x),1,tag_rel)\n",
    "            sort_index = np.array(tag_id[\"movieId\"][((np.argsort(sim))*1128)[:50]])\n",
    "            rel_cos = tag_data[tag_data[\"movieId\"].isin(sort_index)][\"relevance\"].to_numpy().reshape([-1,1128])\n",
    "            rel_cos_id = np.array(movie_data[movie_data[\"movieId\"].isin(sort_index)][\"movieId\"])\n",
    "            euclid_dis = np.apply_along_axis(lambda x:dis.euclidean(rel0,x),1,rel_cos)\n",
    "            rel_cos_id = rel_cos_id[np.argsort(euclid_dis)]\n",
    "            print(\"##################クラスターNo.\",i, \"のおすすめ##################\")\n",
    "            for i in rel_cos_id[:z]:\n",
    "                flag = movie_data[\"movieId\"].isin([i])\n",
    "                print(movie_data[\"title\"][np.where(flag == True)[0][0]])\n",
    "    except ValueError as error:\n",
    "        print(\"movieId_list内にあるuserIdを入力してください。\")"
   ]
  },
  {
   "cell_type": "code",
   "execution_count": 13,
   "metadata": {},
   "outputs": [
    {
     "name": "stdout",
     "output_type": "stream",
     "text": [
      "##################クラスターNo. 0 のおすすめ##################\n",
      "Cold War (2018)\n",
      "Climax (2018)\n",
      "The Meyerowitz Stories (2017)\n",
      "Phantom Thread (2017)\n",
      "Burning (2018)\n",
      "Mandy (2018)\n",
      "First Reformed (2017)\n",
      "Suspiria (2017)\n",
      "Midsommar (2019)\n",
      "Thoroughbreds (2018)\n",
      "##################クラスターNo. 1 のおすすめ##################\n",
      "Blue Planet II (2017)\n",
      "Black Mirror\n",
      "The Favourite\n",
      "Isle of Dogs (2018)\n",
      "Eighth Grade (2018)\n",
      "Three Billboards Outside Ebbing, Missouri (2017)\n",
      "BlacKkKlansman (2018)\n",
      "Making a Murderer (2015)\n",
      "Joker (2019)\n",
      "Once Upon a Time in Hollywood (2019)\n",
      "##################クラスターNo. 2 のおすすめ##################\n",
      "Winter Light (Nattvardsgﾃ､sterna) (1963)\n",
      "Strada, La (1954)\n",
      "Saraband (2003)\n",
      "Roma (2018)\n",
      "Fanny and Alexander (Fanny och Alexander) (1982)\n",
      "Dolce Vita, La (1960)\n",
      "Wild Strawberries (Smultronstﾃ､llet) (1957)\n",
      "Three Colors: Blue (Trois couleurs: Bleu) (1993)\n",
      "Through a Glass Darkly (Sﾃ･som i en spegel) (1961)\n",
      "Three Colors: Red (Trois couleurs: Rouge) (1994)\n",
      "##################クラスターNo. 3 のおすすめ##################\n",
      "Bumblebee (2018)\n",
      "How to Train Your Dragon: The Hidden World (2019)\n",
      "Pokﾃｩmon: Detective Pikachu (2019)\n",
      "Incredibles 2 (2018)\n",
      "Yesterday (2019)\n",
      "Aladdin (2019)\n",
      "The Lion King (2019)\n",
      "Ralph Breaks the Internet (2018)\n",
      "The Greatest Showman (2017)\n",
      "The Lego Movie 2: The Second Part (2019)\n"
     ]
    }
   ],
   "source": [
    "featured_movie_clu(1,10)"
   ]
  },
  {
   "cell_type": "markdown",
   "metadata": {},
   "source": [
    "重み付き平均を用いた総解析    \n",
    "関数weighted_recommend(x)はuserIdを入力すると、そのuserのクラスター毎のお勧めを算出するものである。"
   ]
  },
  {
   "cell_type": "code",
   "execution_count": 10,
   "metadata": {},
   "outputs": [],
   "source": [
    "def print_cluster(p):\n",
    "    cluster_num = len(rating_data[rating_data[\"userId\"] == p])//50 + 3\n",
    "    data = rating_data[rating_data[\"userId\"] == p] \n",
    "    X = tag_relevance[tag_relevance[\"movieId\"].isin(data[\"movieId\"])]\n",
    "    X = X.drop(\"movieId\",axis = 1)\n",
    "    Kmeans = KMeans(n_clusters = cluster_num,init =\"random\",random_state = 0)\n",
    "    y = Kmeans.fit_predict(X)\n",
    "    flag = movie_data[\"movieId\"].isin(tag_relevance[tag_relevance[\"movieId\"].isin(data[\"movieId\"])][\"movieId\"])\n",
    "    name_print = movie_data[flag]\n",
    "    print(\"userId\" + str(p) + \"のクラスタの個数は\" + str(cluster_num) + \"であり、0以上\" + str(cluster_num - 1) +\n",
    "          \"以下で入力してください。\")\n",
    "    num = int(input(\"求めたいクラスタ番号を半角で入力してください:\"))\n",
    "    print(name_print[\"title\"][y == num])"
   ]
  },
  {
   "cell_type": "code",
   "execution_count": 11,
   "metadata": {},
   "outputs": [
    {
     "name": "stdout",
     "output_type": "stream",
     "text": [
      "userId1のクラスタの個数は4であり、0以上3以下で入力してください。\n",
      "求めたいクラスタ番号を半角で入力してください:3\n",
      "1061                                 Dirty Dancing (1987)\n",
      "1922                    Back to the Future Part II (1989)\n",
      "1923                   Back to the Future Part III (1990)\n",
      "2071                        NeverEnding Story, The (1984)\n",
      "5840        Lord of the Rings: The Two Towers, The (2002)\n",
      "6258                                  Finding Nemo (2003)\n",
      "6416    Pirates of the Caribbean: The Curse of the Bla...\n",
      "7734                                       Shrek 2 (2004)\n",
      "9122                                        Taxi 2 (2000)\n",
      "Name: title, dtype: object\n"
     ]
    }
   ],
   "source": [
    "print_cluster(1)"
   ]
  },
  {
   "cell_type": "code",
   "execution_count": 14,
   "metadata": {},
   "outputs": [],
   "source": [
    "def weighted_recommend(x):\n",
    "    try:\n",
    "        cluster_num = len(rating_data[rating_data[\"userId\"] == x])//50 + 3\n",
    "        data = rating_data[rating_data[\"userId\"] == x]\n",
    "        tag_rel_1 = tag_relevance[tag_relevance[\"movieId\"].isin(data[\"movieId\"]) ]\n",
    "        X = (tag_rel_1.copy()).drop(\"movieId\",axis = 1)\n",
    "        Kmeans = KMeans(n_clusters = cluster_num,init =\"random\",random_state = 0)\n",
    "        y = Kmeans.fit_predict(X)\n",
    "        def cal_weighted_sum(v,r):\n",
    "            center = v.mean(axis = 0)\n",
    "            m = r.mean()\n",
    "            sn = np.sign(r-m).reshape(-1,1)\n",
    "            weigth = ((r-m)**2).reshape(-1,1)\n",
    "            vector = (v-center)\n",
    "            return center + (sn*weigth*vector).sum(axis = 0)/weigth.sum()\n",
    "        for i in range(cluster_num):\n",
    "            v = np.array(X[y == i])\n",
    "            r = np.array(data[data[\"movieId\"].isin(tag_rel_1[y==i][\"movieId\"])][\"rating\"])\n",
    "            euclid_rel = np.apply_along_axis(lambda x:dis.euclidean(cal_weighted_sum(v,r),x),1,tag_rel)\n",
    "            sort_euclid_rel = np.argsort(euclid_rel)\n",
    "            print(\"##################クラスターNo.\",i, \"のおすすめ##################\")\n",
    "            for i in sort_euclid_rel[:5]:\n",
    "                flag = movie_data[\"movieId\"].isin([tag_id[\"movieId\"][i*1128]])\n",
    "                print(movie_data[\"title\"][np.where(flag == True)[0][0]])\n",
    "    except:\n",
    "        print(\"movieId_list内にあるuserIdを入力してください。\")"
   ]
  },
  {
   "cell_type": "code",
   "execution_count": 15,
   "metadata": {
    "scrolled": false
   },
   "outputs": [
    {
     "name": "stdout",
     "output_type": "stream",
     "text": [
      "##################クラスターNo. 0 のおすすめ##################\n",
      "Cold War (2018)\n",
      "Faces, Places (2017)\n",
      "And the Ship Sails On (E la nave va) (1983)\n",
      "The Meyerowitz Stories (2017)\n",
      "Burning (2018)\n",
      "##################クラスターNo. 1 のおすすめ##################\n",
      "Run Lola Run (Lola rennt) (1998)\n",
      "Blue Planet II (2017)\n",
      "Eighth Grade (2018)\n",
      "Three Billboards Outside Ebbing, Missouri (2017)\n",
      "Once Upon a Time in Hollywood (2019)\n",
      "##################クラスターNo. 2 のおすすめ##################\n",
      "Strada, La (1954)\n",
      "Three Colors: Blue (Trois couleurs: Bleu) (1993)\n",
      "Dolce Vita, La (1960)\n",
      "Three Colors: Red (Trois couleurs: Rouge) (1994)\n",
      "3-Iron (Bin-jip) (2004)\n",
      "##################クラスターNo. 3 のおすすめ##################\n",
      "How to Train Your Dragon: The Hidden World (2019)\n",
      "Incredibles 2 (2018)\n",
      "Coco (2017)\n",
      "How to Train Your Dragon (2010)\n",
      "Toy Story 4 (2019)\n"
     ]
    }
   ],
   "source": [
    "weighted_recommend(1)"
   ]
  },
  {
   "cell_type": "code",
   "execution_count": null,
   "metadata": {},
   "outputs": [],
   "source": [
    "#LastResearch2より引用\n",
    "ur_name = input(\"あなたのuser名をアルファベットのみで入力してください:\")\n",
    "\n",
    "#頻出度数が高い上位300本の映画\n",
    "rating_counts = rating_data[\"movieId\"].value_counts()\n",
    "rating_counts = pd.DataFrame(rating_counts)\n",
    "rating_counts = rating_counts.reset_index()\n",
    "rating_counts = pd.DataFrame(rating_counts[\"index\"])\n",
    "rating_counts.columns = [\"movieId\"]\n",
    "flag = rating_counts[\"movieId\"].isin(movieId_list)\n",
    "chosed_data = rating_counts[flag]\n",
    "chosed_data = chosed_data[\"movieId\"]\n",
    "chosed_data = np.array(chosed_data[:200])\n",
    "\n",
    "watch_data = []\n",
    "while True:\n",
    "    ur_rating = 0\n",
    "    #人気上位200位の中から無作為に評価する映画を抽出\n",
    "    movieId_random = np.random.choice(chosed_data, 1, replace=True)\n",
    "    ur_movieId = int(movieId_random)\n",
    "    flag = movie_data[\"movieId\"].isin([ur_movieId])\n",
    "    print(movie_data[\"title\"][np.where(flag == True)[0][0]])\n",
    "    ur_rating = input(\"この映画に対する評価を半角数字0以上5以下で入力してください:\")    \n",
    "    try:\n",
    "        if 0 <= float(ur_rating) <= 5:\n",
    "            print(\"正しい値が入力されました。次の映画の評価をしてください。\")\n",
    "            watch_data.append(int(ur_movieId))\n",
    "            watch_data.append(float(ur_rating))\n",
    "            #break\n",
    "    except:\n",
    "        if ur_rating ==\"non\":\n",
    "            print(\"次の映画の評価に映ります。\")\n",
    "        else:\n",
    "            print(\"正しくない値が入力されました。\")\n",
    "    if len(watch_data) == 20:\n",
    "        print(\"これで評価は終わりです。お疲れ様でした。\")\n",
    "        break\n",
    "#評価し終わった映画をデータフレームに移行\n",
    "watch_movieId =watch_data[::2]\n",
    "watch_movieId = pd.DataFrame(watch_movieId)\n",
    "watch_rating = watch_data[1::2]\n",
    "watch_rating = pd.DataFrame(watch_rating)\n",
    "ur_recommend = pd.concat([watch_movieId,watch_rating],axis = 1)\n",
    "ur_recommend.columns = [\"movieId\",\"rating\"]\n",
    "\n",
    "cluster_num = len(watch_data)//50 + 3\n",
    "flag = tag_relevance[\"movieId\"].isin(ur_recommend[\"movieId\"]) \n",
    "tag_rel_1 = tag_relevance[flag]\n",
    "X = tag_rel_1.copy()\n",
    "X = X.drop(\"movieId\",axis = 1)\n",
    "Kmeans = KMeans(n_clusters = cluster_num,init =\"random\",random_state = 0)\n",
    "y = Kmeans.fit_predict(X)\n",
    "#tagとrelevanceにratingを用いて重みづけをする。\n",
    "\n",
    "for i in range(cluster_num):\n",
    "    v = np.array(X[y == i])\n",
    "    flag = ur_recommend[\"movieId\"].isin(tag_rel_1[y==i][\"movieId\"])\n",
    "    r = np.array(ur_recommend[flag][\"rating\"])\n",
    "    weighted_tag =  cal_weighted_sum(v,r)\n",
    "    euclid_rel = np.apply_along_axis(lambda x:dis.euclidean(weighted_tag,x),1,tag_rel)\n",
    "    sort_euclid_rel = np.argsort(euclid_rel)\n",
    "    print(\"クラスターNo.\",i, \"のおすすめ\")\n",
    "    for i in sort_euclid_rel[:5]:\n",
    "        flag = movie_data[\"movieId\"].isin([tag_id[\"movieId\"][i*1128]])\n",
    "        print(movie_data[\"title\"][np.where(flag == True)[0][0]])\n",
    "    print(\"###########################################\")\n",
    "print(\"以上が\"+ ur_name + \"さんへのおすすめです！是非ご覧ください！\")"
   ]
  }
 ],
 "metadata": {
  "kernelspec": {
   "display_name": "Python 3",
   "language": "python",
   "name": "python3"
  },
  "language_info": {
   "codemirror_mode": {
    "name": "ipython",
    "version": 3
   },
   "file_extension": ".py",
   "mimetype": "text/x-python",
   "name": "python",
   "nbconvert_exporter": "python",
   "pygments_lexer": "ipython3",
   "version": "3.8.5"
  }
 },
 "nbformat": 4,
 "nbformat_minor": 4
}
